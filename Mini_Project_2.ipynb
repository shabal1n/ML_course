{
  "nbformat": 4,
  "nbformat_minor": 0,
  "metadata": {
    "colab": {
      "provenance": [],
      "collapsed_sections": [],
      "authorship_tag": "ABX9TyO3QGtB28pXw2fD0MruH4fu",
      "include_colab_link": true
    },
    "kernelspec": {
      "name": "python3",
      "display_name": "Python 3"
    },
    "language_info": {
      "name": "python"
    }
  },
  "cells": [
    {
      "cell_type": "markdown",
      "metadata": {
        "id": "view-in-github",
        "colab_type": "text"
      },
      "source": [
        "<a href=\"https://colab.research.google.com/github/shabal1n/ML_course/blob/main/Mini_Project_2.ipynb\" target=\"_parent\"><img src=\"https://colab.research.google.com/assets/colab-badge.svg\" alt=\"Open In Colab\"/></a>"
      ]
    },
    {
      "cell_type": "code",
      "execution_count": null,
      "metadata": {
        "colab": {
          "base_uri": "https://localhost:8080/"
        },
        "id": "loq71cShIYCW",
        "outputId": "10a2fd8d-725d-4ede-bdd6-1ea01039719b"
      },
      "outputs": [
        {
          "output_type": "stream",
          "name": "stdout",
          "text": [
            "Single Perceptron score:  0.932605421686747\n",
            "['POSITIVE']\n",
            "Naive Bayes score:  0.8878012048192772\n",
            "['POSITIVE']\n",
            "Logistic regression score:  0.9375\n",
            "['POSITIVE']\n"
          ]
        }
      ],
      "source": [
        "import pandas as pd\n",
        "from sklearn.model_selection import train_test_split\n",
        "from sklearn.feature_extraction.text import CountVectorizer\n",
        "from sklearn import linear_model\n",
        "from sklearn.naive_bayes import MultinomialNB\n",
        "from sklearn.linear_model import Perceptron\n",
        "import numpy as np\n",
        "import matplotlib.pyplot as plt\n",
        "\n",
        "df = pd.read_csv('dataset.csv')\n",
        "df = df.dropna(how='all')\n",
        "df = df.fillna(' ')\n",
        "\n",
        "X = df['comment']\n",
        "Y = df['label']\n",
        "\n",
        "X_train, X_test, Y_train, Y_test = train_test_split(X,Y, stratify=Y, test_size=0.25, random_state=42)\n",
        "\n",
        "vectorizer = CountVectorizer(stop_words='english')\n",
        "X_train = vectorizer.fit_transform(X_train).toarray()\n",
        "X_test = vectorizer.transform(X_test).toarray()\n",
        "\n",
        "pred_var = \"I do not like machine learning\"\n",
        "\n",
        "# Perceptron\n",
        "neural = Perceptron()\n",
        "neural.fit(X_train, Y_train)\n",
        "neural_score = neural.score(X_test, Y_test)\n",
        "print(\"Single Perceptron score: \", neural_score)\n",
        "print(neural.predict(vectorizer.transform([pred_var])))\n",
        "\n",
        "# Naive Bayes\n",
        "bayes = MultinomialNB()\n",
        "bayes.fit(X_train, Y_train)\n",
        "bayes_score = bayes.score(X_test, Y_test)\n",
        "print(\"Naive Bayes score: \", bayes_score)\n",
        "print(bayes.predict(vectorizer.transform([pred_var])))\n",
        "\n",
        "# Logistic regression\n",
        "logistic = linear_model.LogisticRegression(solver='lbfgs', max_iter=5625)\n",
        "logistic.fit(X_train,Y_train)\n",
        "log_score = logistic.score(X_test, Y_test)\n",
        "print(\"Logistic regression score: \", log_score)\n",
        "print(logistic.predict(vectorizer.transform([pred_var])))"
      ]
    }
  ]
}